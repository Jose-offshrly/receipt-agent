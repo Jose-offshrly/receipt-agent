{
 "cells": [
  {
   "cell_type": "code",
   "execution_count": 55,
   "metadata": {},
   "outputs": [
    {
     "data": {
      "text/plain": [
       "True"
      ]
     },
     "execution_count": 55,
     "metadata": {},
     "output_type": "execute_result"
    }
   ],
   "source": [
    "from dotenv import load_dotenv, find_dotenv\n",
    "load_dotenv(find_dotenv())"
   ]
  },
  {
   "cell_type": "code",
   "execution_count": 56,
   "metadata": {},
   "outputs": [],
   "source": [
    "import os\n",
    "OPENAI_API_KEY = os.getenv(\"OPENAI_API_KEY\")"
   ]
  },
  {
   "cell_type": "code",
   "execution_count": 57,
   "metadata": {},
   "outputs": [],
   "source": [
    "from langchain_openai.chat_models import ChatOpenAI\n",
    "from langchain.prompts import ChatPromptTemplate, MessagesPlaceholder"
   ]
  },
  {
   "cell_type": "code",
   "execution_count": 58,
   "metadata": {},
   "outputs": [],
   "source": [
    "system_prompt = (\n",
    "        \"You are a survey form generator. Create form based on the following requirements:\"\n",
    "\n",
    "        \"1. The form should follow a clean, modern design with consistent spacing and alignment\"\n",
    "        \"2. Each question should have 5 satisfaction levels: Very Satisfied, Satisfied, Neutral, Dissatisfied, Very Dissatisfied\"\n",
    "        \"3. Use a purple color scheme (#6C47FF for primary actions border only)\"\n",
    "        \"4. Make it clean and readable\"\n",
    "\n",
    "        \"Start generating the form with the following questions:\"\n",
    "        \"{questions}\"\n",
    "\n",
    "        \"Additional requirements:\"\n",
    "        \"- Each question should be in its own container with horizontal actions directly below it\"\n",
    "        \"- Options should be horizontally aligned buttons\"\n",
    "\n",
    "        \"Return only the markdown form ready to be render\"\n",
    "    )\n",
    "\n",
    "\n",
    "prompt = ChatPromptTemplate.from_messages([\n",
    "    (\"system\", system_prompt),\n",
    "    MessagesPlaceholder(variable_name=\"chat_history\"),\n",
    "    (\"user\", \"{input}\"),\n",
    "    MessagesPlaceholder(variable_name=\"agent_scratchpad\")\n",
    "])"
   ]
  },
  {
   "cell_type": "code",
   "execution_count": 59,
   "metadata": {},
   "outputs": [],
   "source": [
    "chain = prompt | ChatOpenAI(model=\"gpt-4o-mini\")\n",
    "\n"
   ]
  },
  {
   "cell_type": "code",
   "execution_count": 60,
   "metadata": {},
   "outputs": [],
   "source": [
    "# add follow up question if too generic query\n",
    "\n",
    "questions = \"\"\"\n",
    "    1. How satisfied are you with your current working hours?\n",
    "    2. Do you feel satisfied about your current work-life balance?\n",
    "\"\"\"\n",
    "response = chain.invoke({\n",
    "    \"questions\": questions,\n",
    "    \"input\": \"\",\n",
    "    \"chat_history\": [],\n",
    "    \"agent_scratchpad\": []\n",
    "})"
   ]
  },
  {
   "cell_type": "code",
   "execution_count": 62,
   "metadata": {},
   "outputs": [
    {
     "name": "stdout",
     "output_type": "stream",
     "text": [
      "\n",
      "<div style=\"font-family: Arial, sans-serif; max-width: 600px; margin: auto; padding: 20px; background-color: #f9f9f9; border-radius: 10px; box-shadow: 0 2px 10px rgba(0,0,0,0.1);\">\n",
      "\n",
      "  <h2 style=\"text-align: center; color: #333;\">Satisfaction Survey</h2>\n",
      "\n",
      "  <div style=\"margin-bottom: 20px; padding: 15px; background-color: #fff; border-radius: 8px; box-shadow: 0 1px 5px rgba(0,0,0,0.1);\">\n",
      "    <p style=\"margin: 0; font-size: 16px; color: #333;\">1. How satisfied are you with your current working hours?</p>\n",
      "    <div style=\"display: flex; justify-content: space-around; margin-top: 10px;\">\n",
      "      <button style=\"border: 2px solid #6C47FF; background: white; color: #6C47FF; border-radius: 5px; padding: 10px; cursor: pointer;\">Very Satisfied</button>\n",
      "      <button style=\"border: 2px solid #6C47FF; background: white; color: #6C47FF; border-radius: 5px; padding: 10px; cursor: pointer;\">Satisfied</button>\n",
      "      <button style=\"border: 2px solid #6C47FF; background: white; color: #6C47FF; border-radius: 5px; padding: 10px; cursor: pointer;\">Neutral</button>\n",
      "      <button style=\"border: 2px solid #6C47FF; background: white; color: #6C47FF; border-radius: 5px; padding: 10px; cursor: pointer;\">Dissatisfied</button>\n",
      "      <button style=\"border: 2px solid #6C47FF; background: white; color: #6C47FF; border-radius: 5px; padding: 10px; cursor: pointer;\">Very Dissatisfied</button>\n",
      "    </div>\n",
      "  </div>\n",
      "\n",
      "  <div style=\"margin-bottom: 20px; padding: 15px; background-color: #fff; border-radius: 8px; box-shadow: 0 1px 5px rgba(0,0,0,0.1);\">\n",
      "    <p style=\"margin: 0; font-size: 16px; color: #333;\">2. Do you feel satisfied about your current work-life balance?</p>\n",
      "    <div style=\"display: flex; justify-content: space-around; margin-top: 10px;\">\n",
      "      <button style=\"border: 2px solid #6C47FF; background: white; color: #6C47FF; border-radius: 5px; padding: 10px; cursor: pointer;\">Very Satisfied</button>\n",
      "      <button style=\"border: 2px solid #6C47FF; background: white; color: #6C47FF; border-radius: 5px; padding: 10px; cursor: pointer;\">Satisfied</button>\n",
      "      <button style=\"border: 2px solid #6C47FF; background: white; color: #6C47FF; border-radius: 5px; padding: 10px; cursor: pointer;\">Neutral</button>\n",
      "      <button style=\"border: 2px solid #6C47FF; background: white; color: #6C47FF; border-radius: 5px; padding: 10px; cursor: pointer;\">Dissatisfied</button>\n",
      "      <button style=\"border: 2px solid #6C47FF; background: white; color: #6C47FF; border-radius: 5px; padding: 10px; cursor: pointer;\">Very Dissatisfied</button>\n",
      "    </div>\n",
      "  </div>\n",
      "\n",
      "</div>\n",
      "\n"
     ]
    }
   ],
   "source": [
    "print(str(response.content).lstrip(\"```markdown\").rstrip(\"```\"))"
   ]
  },
  {
   "cell_type": "markdown",
   "metadata": {},
   "source": [
    "<div style=\"font-family: Arial, sans-serif; max-width: 600px; margin: auto; padding: 20px; background-color: #f9f9f9; border-radius: 10px; box-shadow: 0 2px 10px rgba(0,0,0,0.1);\">\n",
    "\n",
    "  <h2 style=\"text-align: center; color: #333;\">Satisfaction Survey</h2>\n",
    "\n",
    "  <div style=\"margin-bottom: 20px; padding: 15px; background-color: #fff; border-radius: 8px; box-shadow: 0 1px 5px rgba(0,0,0,0.1);\">\n",
    "    <p style=\"margin: 0; font-size: 16px; color: #333;\">1. How satisfied are you with your current working hours?</p>\n",
    "    <div style=\"display: flex; justify-content: space-around; margin-top: 10px;\">\n",
    "      <button style=\"border: 2px solid #6C47FF; background: white; color: #6C47FF; border-radius: 5px; padding: 10px; cursor: pointer;\">Very Satisfied</button>\n",
    "      <button style=\"border: 2px solid #6C47FF; background: white; color: #6C47FF; border-radius: 5px; padding: 10px; cursor: pointer;\">Satisfied</button>\n",
    "      <button style=\"border: 2px solid #6C47FF; background: white; color: #6C47FF; border-radius: 5px; padding: 10px; cursor: pointer;\">Neutral</button>\n",
    "      <button style=\"border: 2px solid #6C47FF; background: white; color: #6C47FF; border-radius: 5px; padding: 10px; cursor: pointer;\">Dissatisfied</button>\n",
    "      <button style=\"border: 2px solid #6C47FF; background: white; color: #6C47FF; border-radius: 5px; padding: 10px; cursor: pointer;\">Very Dissatisfied</button>\n",
    "    </div>\n",
    "  </div>\n",
    "\n",
    "  <div style=\"margin-bottom: 20px; padding: 15px; background-color: #fff; border-radius: 8px; box-shadow: 0 1px 5px rgba(0,0,0,0.1);\">\n",
    "    <p style=\"margin: 0; font-size: 16px; color: #333;\">2. Do you feel satisfied about your current work-life balance?</p>\n",
    "    <div style=\"display: flex; justify-content: space-around; margin-top: 10px;\">\n",
    "      <button style=\"border: 2px solid #6C47FF; background: white; color: #6C47FF; border-radius: 5px; padding: 10px; cursor: pointer;\">Very Satisfied</button>\n",
    "      <button style=\"border: 2px solid #6C47FF; background: white; color: #6C47FF; border-radius: 5px; padding: 10px; cursor: pointer;\">Satisfied</button>\n",
    "      <button style=\"border: 2px solid #6C47FF; background: white; color: #6C47FF; border-radius: 5px; padding: 10px; cursor: pointer;\">Neutral</button>\n",
    "      <button style=\"border: 2px solid #6C47FF; background: white; color: #6C47FF; border-radius: 5px; padding: 10px; cursor: pointer;\">Dissatisfied</button>\n",
    "      <button style=\"border: 2px solid #6C47FF; background: white; color: #6C47FF; border-radius: 5px; padding: 10px; cursor: pointer;\">Very Dissatisfied</button>\n",
    "    </div>\n",
    "  </div>\n",
    "\n",
    "</div>"
   ]
  },
  {
   "cell_type": "markdown",
   "metadata": {},
   "source": [
    "---\n",
    "\n",
    "**Employee Satisfaction Survey**\n",
    "\n",
    "---\n",
    "\n",
    "**1. How satisfied are you with your current working hours?**\n",
    "\n",
    "<div style=\"background-color: #f7f7f7; padding: 20px; border-radius: 10px; box-shadow: 0 2px 5px rgba(0, 0, 0, 0.1); margin-bottom: 20px;\">\n",
    "  <button style=\"background-color: #6C47FF; border: none; border-radius: 5px; padding: 10px 20px; color: white; margin-right: 10px;\">Very Satisfied</button>\n",
    "  <button style=\"background-color: #6C47FF; border: none; border-radius: 5px; padding: 10px 20px; color: white; margin-right: 10px;\">Satisfied</button>\n",
    "  <button style=\"background-color: #6C47FF; border: none; border-radius: 5px; padding: 10px 20px; color: white; margin-right: 10px;\">Neutral</button>\n",
    "  <button style=\"background-color: #6C47FF; border: none; border-radius: 5px; padding: 10px 20px; color: white; margin-right: 10px;\">Dissatisfied</button>\n",
    "  <button style=\"background-color: #6C47FF; border: none; border-radius: 5px; padding: 10px 20px; color: white;\">Very Dissatisfied</button>\n",
    "</div>"
   ]
  }
 ],
 "metadata": {
  "kernelspec": {
   "display_name": "venv",
   "language": "python",
   "name": "python3"
  },
  "language_info": {
   "codemirror_mode": {
    "name": "ipython",
    "version": 3
   },
   "file_extension": ".py",
   "mimetype": "text/x-python",
   "name": "python",
   "nbconvert_exporter": "python",
   "pygments_lexer": "ipython3",
   "version": "3.10.12"
  }
 },
 "nbformat": 4,
 "nbformat_minor": 4
}
